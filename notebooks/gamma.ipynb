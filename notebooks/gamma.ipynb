{
 "cells": [
  {
   "cell_type": "code",
   "execution_count": 1,
   "metadata": {},
   "outputs": [
    {
     "name": "stderr",
     "output_type": "stream",
     "text": [
      "Ultralytics YOLOv8.0.196  Python-3.10.9 torch-2.2.2+cpu CPU (11th Gen Intel Core(TM) i3-1115G4 3.00GHz)\n",
      "Setup complete  (4 CPUs, 7.8 GB RAM, 120.9/146.5 GB disk)\n"
     ]
    }
   ],
   "source": [
    "# Pip install method (recommended)\n",
    "\n",
    "from IPython import display\n",
    "display.clear_output()\n",
    "\n",
    "import ultralytics\n",
    "ultralytics.checks()"
   ]
  },
  {
   "cell_type": "code",
   "execution_count": 2,
   "metadata": {},
   "outputs": [],
   "source": [
    "from ultralytics import YOLO\n",
    "\n",
    "from IPython.display import display, Image"
   ]
  },
  {
   "cell_type": "code",
   "execution_count": 3,
   "metadata": {},
   "outputs": [
    {
     "name": "stdout",
     "output_type": "stream",
     "text": [
      "loading Roboflow workspace...\n",
      "loading Roboflow project...\n"
     ]
    },
    {
     "name": "stderr",
     "output_type": "stream",
     "text": [
      "Downloading Dataset Version Zip in RunsPose-2 to yolov8:: 100%|██████████| 69211/69211 [00:45<00:00, 1527.49it/s]"
     ]
    },
    {
     "name": "stdout",
     "output_type": "stream",
     "text": [
      "\n"
     ]
    },
    {
     "name": "stderr",
     "output_type": "stream",
     "text": [
      "\n",
      "Extracting Dataset Version Zip to RunsPose-2 in yolov8:: 100%|██████████| 2203/2203 [00:06<00:00, 315.14it/s]\n"
     ]
    }
   ],
   "source": [
    "from roboflow import Roboflow\n",
    "rf = Roboflow(api_key=\"10uIUjTCg7s1cs23NXvV\")\n",
    "project = rf.workspace(\"hendro-wunga\").project(\"runspose\")\n",
    "version = project.version(2)\n",
    "dataset = version.download(\"yolov8\")\n"
   ]
  },
  {
   "cell_type": "code",
   "execution_count": 4,
   "metadata": {},
   "outputs": [
    {
     "ename": "SyntaxError",
     "evalue": "invalid syntax (3581783326.py, line 2)",
     "output_type": "error",
     "traceback": [
      "\u001b[1;36m  Cell \u001b[1;32mIn[4], line 2\u001b[1;36m\u001b[0m\n\u001b[1;33m    task=detect mode=train model=yolov8s.pt data={dataset.location}/data.yaml epochs=25 imgsz=800 plots=True\u001b[0m\n\u001b[1;37m                ^\u001b[0m\n\u001b[1;31mSyntaxError\u001b[0m\u001b[1;31m:\u001b[0m invalid syntax\n"
     ]
    }
   ],
   "source": [
    "%cd {HOME}\n",
    "task=detect mode=train model=yolov8s.pt data={dataset.location}/data.yaml epochs=25 imgsz=800 plots=True\n"
   ]
  },
  {
   "cell_type": "code",
   "execution_count": null,
   "metadata": {},
   "outputs": [],
   "source": [
    "\n",
    "def sharpen_image_with_laplacian(image):\n",
    "    # Apply the Laplacian operator to detect edges\\\n",
    "    color_image = cv.cvtColor(image, cv.COLOR_GRAY2BGR)\n",
    "    laplacian = cv.Laplacian(image, cv.CV_64F)\n",
    "\n",
    "    # Calculate the sharpened image by adding the Laplacian image to the original image\n",
    "    # Normalize the Laplacian result to the range [0, 255]\n",
    "    laplacian_norm = cv.normalize(laplacian, None, alpha=0, beta=255, norm_type=cv.NORM_MINMAX, dtype=cv.CV_8U)\n",
    "\n",
    "    # Convert Laplacian result back to 3-channel format\n",
    "    laplacian_rgb = cv.merge((laplacian_norm, laplacian_norm, laplacian_norm))\n",
    "\n",
    "    # Calculate the sharpened image by adding the Laplacian-enhanced image to the original image\n",
    "    sharpened_image = cv.addWeighted(color_image, 1.5, laplacian_rgb, -0.5, 0)\n",
    "\n",
    "    return sharpened_image\n",
    "\n",
    "\n",
    "list_files(\"../Dataimage/Train\")"
   ]
  }
 ],
 "metadata": {
  "kernelspec": {
   "display_name": "Python 3",
   "language": "python",
   "name": "python3"
  },
  "language_info": {
   "codemirror_mode": {
    "name": "ipython",
    "version": 3
   },
   "file_extension": ".py",
   "mimetype": "text/x-python",
   "name": "python",
   "nbconvert_exporter": "python",
   "pygments_lexer": "ipython3",
   "version": "3.10.9"
  }
 },
 "nbformat": 4,
 "nbformat_minor": 2
}
