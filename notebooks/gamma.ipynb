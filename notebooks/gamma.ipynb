{
 "cells": [
  {
   "cell_type": "code",
   "execution_count": 5,
   "metadata": {},
   "outputs": [],
   "source": [
    "from matplotlib.image import imread\n",
    "import tensorflow as tf\n",
    "import os\n",
    "import matplotlib.pyplot as plt\n",
    "from PIL import Image\n",
    "import matplotlib.image as mpimg\n",
    "import pandas as pd\n",
    "import numpy as np\n",
    "from skimage import transform\n",
    "import cv2 as cv\n",
    "import numpy as np\n"
   ]
  },
  {
   "cell_type": "code",
   "execution_count": 7,
   "metadata": {},
   "outputs": [],
   "source": [
    "directory = \"../Dataimage/Train\""
   ]
  },
  {
   "cell_type": "code",
   "execution_count": 8,
   "metadata": {},
   "outputs": [],
   "source": [
    "def list_files(directory):\n",
    "    file_list = []\n",
    "    # Iterate through all files in the directory and its subdirectories\n",
    "    for root, dirs, files in os.walk(directory):\n",
    "        for file in files:\n",
    "            # Construct the full path to the file\n",
    "            file_path = os.path.join(root, file)\n",
    "            image = cv.imread(file_path)\n",
    "            height, width, _ = image.shape\n",
    "            image = cv.resize(image,(800,800))\n",
    "            image = normalize_image(image)\n",
    "            image = sharpen_image_with_laplacian(image)\n",
    "            cv.imwrite(f\"../Dataimage/Result_2/Train/{file}\", image)\n"
   ]
  },
  {
   "cell_type": "code",
   "execution_count": 9,
   "metadata": {},
   "outputs": [],
   "source": [
    "\n",
    "def normalize_image(image):\n",
    "    gray_image = cv.cvtColor(image, cv.COLOR_BGR2GRAY)\n",
    "\n",
    "    normalized_image = cv.normalize(gray_image, None, 0, 255, cv.NORM_MINMAX, dtype=cv.CV_8U)\n",
    "    mean_intensity = np.mean(normalized_image)\n",
    "\n",
    "    if mean_intensity >= 200:\n",
    "        adjusted_image = np.where(normalized_image > 100, normalized_image - 50, normalized_image).astype(np.uint8)\n",
    "    elif mean_intensity < 100:\n",
    "        adjusted_image = np.where(normalized_image < 155, normalized_image + 50, normalized_image).astype(np.uint8)\n",
    "    else:\n",
    "        adjusted_image = normalized_image\n",
    "\n",
    "    return adjusted_image\n",
    "\n"
   ]
  },
  {
   "cell_type": "code",
   "execution_count": 10,
   "metadata": {},
   "outputs": [],
   "source": [
    "\n",
    "def sharpen_image_with_laplacian(image):\n",
    "    # Apply the Laplacian operator to detect edges\\\n",
    "    color_image = cv.cvtColor(image, cv.COLOR_GRAY2BGR)\n",
    "    laplacian = cv.Laplacian(image, cv.CV_64F)\n",
    "\n",
    "    # Calculate the sharpened image by adding the Laplacian image to the original image\n",
    "    # Normalize the Laplacian result to the range [0, 255]\n",
    "    laplacian_norm = cv.normalize(laplacian, None, alpha=0, beta=255, norm_type=cv.NORM_MINMAX, dtype=cv.CV_8U)\n",
    "\n",
    "    # Convert Laplacian result back to 3-channel format\n",
    "    laplacian_rgb = cv.merge((laplacian_norm, laplacian_norm, laplacian_norm))\n",
    "\n",
    "    # Calculate the sharpened image by adding the Laplacian-enhanced image to the original image\n",
    "    sharpened_image = cv.addWeighted(color_image, 1.5, laplacian_rgb, -0.5, 0)\n",
    "\n",
    "    return sharpened_image\n",
    "\n",
    "\n",
    "list_files(\"../Dataimage/Train\")"
   ]
  }
 ],
 "metadata": {
  "kernelspec": {
   "display_name": "Python 3",
   "language": "python",
   "name": "python3"
  },
  "language_info": {
   "codemirror_mode": {
    "name": "ipython",
    "version": 3
   },
   "file_extension": ".py",
   "mimetype": "text/x-python",
   "name": "python",
   "nbconvert_exporter": "python",
   "pygments_lexer": "ipython3",
   "version": "3.10.9"
  }
 },
 "nbformat": 4,
 "nbformat_minor": 2
}
